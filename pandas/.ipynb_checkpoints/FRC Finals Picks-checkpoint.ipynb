{
 "cells": [
  {
   "cell_type": "markdown",
   "metadata": {},
   "source": [
    "#A Breakdown of Comp Attendance and Success"
   ]
  },
  {
   "cell_type": "code",
   "execution_count": 1,
   "metadata": {
    "collapsed": true
   },
   "outputs": [],
   "source": [
    "import seaborn as sns\n",
    "import matplotlib.pyplot as plt\n",
    "%matplotlib inline\n",
    "\n",
    "import warnings\n",
    "warnings.filterwarnings('ignore') \n",
    "import pickle\n",
    "import numpy as np\n",
    "import pandas as pd\n",
    "import tbapy \n",
    "from scipy import stats\n",
    "import DatabaseGen as DBG\n",
    "from sklearn.decomposition import PCA, KernelPCA\n",
    "from sklearn.externals import joblib\n",
    "from sklearn.model_selection import KFold, cross_val_score, train_test_split, GridSearchCV\n",
    "from sklearn.metrics import make_scorer, mean_squared_error, r2_score, accuracy_score\n",
    "from sklearn.feature_selection import VarianceThreshold, RFE, SelectKBest, chi2\n",
    "from sklearn import preprocessing \n",
    "from sklearn.pipeline import Pipeline, FeatureUnion, make_pipeline\n",
    "from sklearn.linear_model import LogisticRegression\n",
    "from sklearn.discriminant_analysis import LinearDiscriminantAnalysis\n",
    "from sklearn.neighbors import KNeighborsClassifier\n",
    "from sklearn.tree import DecisionTreeClassifier\n",
    "from sklearn.naive_bayes import GaussianNB\n",
    "from sklearn.svm import SVC\n",
    "from sklearn.ensemble import BaggingClassifier, ExtraTreesClassifier, GradientBoostingClassifier, VotingClassifier, RandomForestClassifier, AdaBoostClassifier, BaggingRegressor"
   ]
  },
  {
   "cell_type": "code",
   "execution_count": 2,
   "metadata": {
    "collapsed": true
   },
   "outputs": [],
   "source": [
    "event_code = \"2017alhu\""
   ]
  },
  {
   "cell_type": "code",
   "execution_count": 3,
   "metadata": {
    "collapsed": true
   },
   "outputs": [],
   "source": [
    "data = pd.read_pickle(\"week3\" + \".p\")"
   ]
  },
  {
   "cell_type": "code",
   "execution_count": 4,
   "metadata": {
    "collapsed": true
   },
   "outputs": [],
   "source": [
    "pre_split_pick = data[data['final']==True]\n",
    "pre_split_npick = data[data['final']==False]\n",
    "msk = np.random.rand(len(pre_split_npick)) < 0.8\n",
    "pre_split_npick = pre_split_npick[msk]\n",
    "data_post = pre_split_npick.append(pre_split_pick)"
   ]
  },
  {
   "cell_type": "code",
   "execution_count": 5,
   "metadata": {},
   "outputs": [
    {
     "name": "stdout",
     "output_type": "stream",
     "text": [
      "190\n",
      "192\n"
     ]
    }
   ],
   "source": [
    "print(len(pre_split_npick))\n",
    "print(len(pre_split_pick))"
   ]
  },
  {
   "cell_type": "code",
   "execution_count": 6,
   "metadata": {
    "scrolled": true
   },
   "outputs": [],
   "source": [
    "target = data_post['final'].copy()\n",
    "data_p = data_post.drop('final', axis=1).copy()\n",
    "data_p.drop('oprs', axis=1, inplace=True)\n",
    "data_p.drop('dprs', axis=1, inplace=True)\n",
    "data_p.drop('ccwms', axis=1, inplace=True)\n",
    "data_p.drop('rope', axis=1, inplace=True)\n",
    "data_p.drop('gears', axis=1, inplace=True)\n",
    "data_p.drop('team_number', axis=1, inplace=True)\n",
    "#data_p.drop('mean_prev_opr', axis=1, inplace=True)\n",
    "data_p.drop('team_avg_opr', axis=1, inplace=True)\n",
    "data_p.drop('oppo_avg_opr', axis=1, inplace=True)\n",
    "\n",
    "data_p['last_opr_comps'] = stats.rankdata(data_p['last_opr_comps'], \"average\")/len(data_p)\n",
    "data_p['opr_comps'] = stats.rankdata(data_p['opr_comps'], \"average\")/len(data_p)\n",
    "data_p['mean_prev_opr'] = stats.rankdata(data_p['mean_prev_opr'], \"average\")/len(data_p)\n"
   ]
  },
  {
   "cell_type": "code",
   "execution_count": null,
   "metadata": {
    "collapsed": true
   },
   "outputs": [],
   "source": []
  },
  {
   "cell_type": "code",
   "execution_count": 7,
   "metadata": {
    "collapsed": true
   },
   "outputs": [],
   "source": [
    "#msk = np.random.rand(len(data_p)) < 0.8\n",
    "#data_s = data_p[msk]\n",
    "#data_r = data_p[~msk]\n",
    "#target_s = target[msk]\n",
    "#target_r = target[~msk]\n",
    "X_train, X_test, y_train, y_test = train_test_split(data_p, target, test_size=0.2, random_state=1337, stratify=target)\n",
    "#model = RandomForestClassifier(n_estimators=600, min_samples_split=10, max_depth=20)\n",
    "#model = model.fit(X_train, X_test)\n",
    "#model.score(data_s, target_s)"
   ]
  },
  {
   "cell_type": "code",
   "execution_count": 8,
   "metadata": {},
   "outputs": [
    {
     "name": "stdout",
     "output_type": "stream",
     "text": [
      "dict_keys(['memory', 'steps', 'standardscaler', 'baggingregressor', 'standardscaler__copy', 'standardscaler__with_mean', 'standardscaler__with_std', 'baggingregressor__base_estimator', 'baggingregressor__bootstrap', 'baggingregressor__bootstrap_features', 'baggingregressor__max_features', 'baggingregressor__max_samples', 'baggingregressor__n_estimators', 'baggingregressor__n_jobs', 'baggingregressor__oob_score', 'baggingregressor__random_state', 'baggingregressor__verbose', 'baggingregressor__warm_start'])\n"
     ]
    }
   ],
   "source": [
    "pipeline = make_pipeline(preprocessing.StandardScaler(), \n",
    "                         BaggingRegressor(n_estimators=600))\n",
    "print(pipeline.get_params().keys())"
   ]
  },
  {
   "cell_type": "code",
   "execution_count": 9,
   "metadata": {
    "collapsed": true
   },
   "outputs": [],
   "source": [
    "hyperparameters = {'baggingregressor__max_samples': [1.0, .75, .5, .25], 'baggingregressor__max_features': [1.0, .75, .5, .25], 'baggingregressor__warm_start': [False, True], 'baggingregressor__bootstrap_features': [False, True], 'baggingregressor__bootstrap': [False, True]}"
   ]
  },
  {
   "cell_type": "code",
   "execution_count": 10,
   "metadata": {
    "collapsed": true
   },
   "outputs": [],
   "source": [
    "clf = GridSearchCV(pipeline, hyperparameters, cv=10, n_jobs=4)"
   ]
  },
  {
   "cell_type": "code",
   "execution_count": 11,
   "metadata": {},
   "outputs": [
    {
     "name": "stdout",
     "output_type": "stream",
     "text": [
      "{'baggingregressor__bootstrap': True, 'baggingregressor__bootstrap_features': False, 'baggingregressor__max_features': 1.0, 'baggingregressor__max_samples': 0.25, 'baggingregressor__warm_start': False}\n"
     ]
    }
   ],
   "source": [
    "clf.fit(X_train, y_train)\n",
    "print(clf.best_params_)"
   ]
  },
  {
   "cell_type": "code",
   "execution_count": 12,
   "metadata": {},
   "outputs": [
    {
     "name": "stdout",
     "output_type": "stream",
     "text": [
      "0.296670754316\n",
      "0.74025974026\n"
     ]
    }
   ],
   "source": [
    "y_pred = clf.predict(X_test)\n",
    "print(r2_score(y_test, y_pred))\n",
    "y_pred[y_pred >= y_pred.mean()] = True\n",
    "y_pred[y_pred != True] = False\n",
    "print(accuracy_score(y_test, y_pred))"
   ]
  },
  {
   "cell_type": "code",
   "execution_count": 13,
   "metadata": {},
   "outputs": [
    {
     "data": {
      "text/plain": [
       "0.29667075431619772"
      ]
     },
     "execution_count": 13,
     "metadata": {},
     "output_type": "execute_result"
    }
   ],
   "source": [
    "clf.score(X_test, y_test)"
   ]
  },
  {
   "cell_type": "code",
   "execution_count": 14,
   "metadata": {
    "collapsed": true
   },
   "outputs": [],
   "source": [
    "#data_wrong = data_w_p[data_w_p['final'] != data_w_p['predict']]\n",
    "#data_w_p['right'] = data_w_p['final'] == data_w_p['predict']"
   ]
  },
  {
   "cell_type": "code",
   "execution_count": 15,
   "metadata": {
    "collapsed": true,
    "scrolled": false
   },
   "outputs": [],
   "source": [
    "#print(len(data_wrong))\n",
    "#print(len(data_wrong[data_wrong['final']==True]))"
   ]
  },
  {
   "cell_type": "code",
   "execution_count": 16,
   "metadata": {},
   "outputs": [
    {
     "data": {
      "text/plain": [
       "array([ 0.02])"
      ]
     },
     "execution_count": 16,
     "metadata": {},
     "output_type": "execute_result"
    }
   ],
   "source": [
    "clf.predict([data_p.loc['frc4924']])"
   ]
  },
  {
   "cell_type": "code",
   "execution_count": 17,
   "metadata": {
    "collapsed": true
   },
   "outputs": [],
   "source": [
    "#sns.pairplot(X_test, vars=['rookie_year', 'num_comps', 'opr_comps', 'mean_prev_opr'], hue='right', kind=\"reg\")\n",
    "#plt.show()"
   ]
  },
  {
   "cell_type": "code",
   "execution_count": null,
   "metadata": {
    "collapsed": true
   },
   "outputs": [],
   "source": []
  }
 ],
 "metadata": {
  "kernelspec": {
   "display_name": "Python 3",
   "language": "python",
   "name": "python3"
  },
  "language_info": {
   "codemirror_mode": {
    "name": "ipython",
    "version": 3
   },
   "file_extension": ".py",
   "mimetype": "text/x-python",
   "name": "python",
   "nbconvert_exporter": "python",
   "pygments_lexer": "ipython3",
   "version": "3.6.2"
  }
 },
 "nbformat": 4,
 "nbformat_minor": 2
}
